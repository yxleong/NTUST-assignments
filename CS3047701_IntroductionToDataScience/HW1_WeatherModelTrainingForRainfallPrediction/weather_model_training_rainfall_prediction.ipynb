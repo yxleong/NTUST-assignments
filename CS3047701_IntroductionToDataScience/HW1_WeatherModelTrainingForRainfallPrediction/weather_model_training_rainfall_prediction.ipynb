{
  "nbformat": 4,
  "nbformat_minor": 0,
  "metadata": {
    "colab": {
      "provenance": [],
      "collapsed_sections": [
        "s_nJAgqjpblN",
        "uUYdkuv5avZa",
        "qWncTGBMa0Mb",
        "UbiCsIZCa7NO"
      ]
    },
    "kernelspec": {
      "name": "python3",
      "display_name": "Python 3"
    },
    "language_info": {
      "name": "python"
    }
  },
  "cells": [
    {
      "cell_type": "markdown",
      "source": [
        "# Preparation"
      ],
      "metadata": {
        "id": "s_nJAgqjpblN"
      }
    },
    {
      "cell_type": "markdown",
      "source": [
        "### Upload own kaggle API"
      ],
      "metadata": {
        "id": "uUYdkuv5avZa"
      }
    },
    {
      "cell_type": "code",
      "source": [
        "from google.colab import files\n",
        "\n",
        "uploaded = files.upload()\n",
        "\n",
        "for fn in uploaded.keys():\n",
        "  print('User uploaded file \"{name}\" with length {length} bytes'.format(\n",
        "      name=fn, length=len(uploaded[fn])))\n",
        "\n",
        "!mkdir -p ~/.kaggle/ && mv kaggle.json ~/.kaggle/ && chmod 600 ~/.kaggle/kaggle.json"
      ],
      "metadata": {
        "colab": {
          "base_uri": "https://localhost:8080/",
          "height": 90
        },
        "id": "dizN7FTWf5cw",
        "outputId": "ec63a376-a21b-4712-b7b2-79362e4f8a77"
      },
      "execution_count": 1,
      "outputs": [
        {
          "output_type": "display_data",
          "data": {
            "text/plain": [
              "<IPython.core.display.HTML object>"
            ],
            "text/html": [
              "\n",
              "     <input type=\"file\" id=\"files-add652cc-08aa-43b4-b7b6-7563faa77c71\" name=\"files[]\" multiple disabled\n",
              "        style=\"border:none\" />\n",
              "     <output id=\"result-add652cc-08aa-43b4-b7b6-7563faa77c71\">\n",
              "      Upload widget is only available when the cell has been executed in the\n",
              "      current browser session. Please rerun this cell to enable.\n",
              "      </output>\n",
              "      <script>// Copyright 2017 Google LLC\n",
              "//\n",
              "// Licensed under the Apache License, Version 2.0 (the \"License\");\n",
              "// you may not use this file except in compliance with the License.\n",
              "// You may obtain a copy of the License at\n",
              "//\n",
              "//      http://www.apache.org/licenses/LICENSE-2.0\n",
              "//\n",
              "// Unless required by applicable law or agreed to in writing, software\n",
              "// distributed under the License is distributed on an \"AS IS\" BASIS,\n",
              "// WITHOUT WARRANTIES OR CONDITIONS OF ANY KIND, either express or implied.\n",
              "// See the License for the specific language governing permissions and\n",
              "// limitations under the License.\n",
              "\n",
              "/**\n",
              " * @fileoverview Helpers for google.colab Python module.\n",
              " */\n",
              "(function(scope) {\n",
              "function span(text, styleAttributes = {}) {\n",
              "  const element = document.createElement('span');\n",
              "  element.textContent = text;\n",
              "  for (const key of Object.keys(styleAttributes)) {\n",
              "    element.style[key] = styleAttributes[key];\n",
              "  }\n",
              "  return element;\n",
              "}\n",
              "\n",
              "// Max number of bytes which will be uploaded at a time.\n",
              "const MAX_PAYLOAD_SIZE = 100 * 1024;\n",
              "\n",
              "function _uploadFiles(inputId, outputId) {\n",
              "  const steps = uploadFilesStep(inputId, outputId);\n",
              "  const outputElement = document.getElementById(outputId);\n",
              "  // Cache steps on the outputElement to make it available for the next call\n",
              "  // to uploadFilesContinue from Python.\n",
              "  outputElement.steps = steps;\n",
              "\n",
              "  return _uploadFilesContinue(outputId);\n",
              "}\n",
              "\n",
              "// This is roughly an async generator (not supported in the browser yet),\n",
              "// where there are multiple asynchronous steps and the Python side is going\n",
              "// to poll for completion of each step.\n",
              "// This uses a Promise to block the python side on completion of each step,\n",
              "// then passes the result of the previous step as the input to the next step.\n",
              "function _uploadFilesContinue(outputId) {\n",
              "  const outputElement = document.getElementById(outputId);\n",
              "  const steps = outputElement.steps;\n",
              "\n",
              "  const next = steps.next(outputElement.lastPromiseValue);\n",
              "  return Promise.resolve(next.value.promise).then((value) => {\n",
              "    // Cache the last promise value to make it available to the next\n",
              "    // step of the generator.\n",
              "    outputElement.lastPromiseValue = value;\n",
              "    return next.value.response;\n",
              "  });\n",
              "}\n",
              "\n",
              "/**\n",
              " * Generator function which is called between each async step of the upload\n",
              " * process.\n",
              " * @param {string} inputId Element ID of the input file picker element.\n",
              " * @param {string} outputId Element ID of the output display.\n",
              " * @return {!Iterable<!Object>} Iterable of next steps.\n",
              " */\n",
              "function* uploadFilesStep(inputId, outputId) {\n",
              "  const inputElement = document.getElementById(inputId);\n",
              "  inputElement.disabled = false;\n",
              "\n",
              "  const outputElement = document.getElementById(outputId);\n",
              "  outputElement.innerHTML = '';\n",
              "\n",
              "  const pickedPromise = new Promise((resolve) => {\n",
              "    inputElement.addEventListener('change', (e) => {\n",
              "      resolve(e.target.files);\n",
              "    });\n",
              "  });\n",
              "\n",
              "  const cancel = document.createElement('button');\n",
              "  inputElement.parentElement.appendChild(cancel);\n",
              "  cancel.textContent = 'Cancel upload';\n",
              "  const cancelPromise = new Promise((resolve) => {\n",
              "    cancel.onclick = () => {\n",
              "      resolve(null);\n",
              "    };\n",
              "  });\n",
              "\n",
              "  // Wait for the user to pick the files.\n",
              "  const files = yield {\n",
              "    promise: Promise.race([pickedPromise, cancelPromise]),\n",
              "    response: {\n",
              "      action: 'starting',\n",
              "    }\n",
              "  };\n",
              "\n",
              "  cancel.remove();\n",
              "\n",
              "  // Disable the input element since further picks are not allowed.\n",
              "  inputElement.disabled = true;\n",
              "\n",
              "  if (!files) {\n",
              "    return {\n",
              "      response: {\n",
              "        action: 'complete',\n",
              "      }\n",
              "    };\n",
              "  }\n",
              "\n",
              "  for (const file of files) {\n",
              "    const li = document.createElement('li');\n",
              "    li.append(span(file.name, {fontWeight: 'bold'}));\n",
              "    li.append(span(\n",
              "        `(${file.type || 'n/a'}) - ${file.size} bytes, ` +\n",
              "        `last modified: ${\n",
              "            file.lastModifiedDate ? file.lastModifiedDate.toLocaleDateString() :\n",
              "                                    'n/a'} - `));\n",
              "    const percent = span('0% done');\n",
              "    li.appendChild(percent);\n",
              "\n",
              "    outputElement.appendChild(li);\n",
              "\n",
              "    const fileDataPromise = new Promise((resolve) => {\n",
              "      const reader = new FileReader();\n",
              "      reader.onload = (e) => {\n",
              "        resolve(e.target.result);\n",
              "      };\n",
              "      reader.readAsArrayBuffer(file);\n",
              "    });\n",
              "    // Wait for the data to be ready.\n",
              "    let fileData = yield {\n",
              "      promise: fileDataPromise,\n",
              "      response: {\n",
              "        action: 'continue',\n",
              "      }\n",
              "    };\n",
              "\n",
              "    // Use a chunked sending to avoid message size limits. See b/62115660.\n",
              "    let position = 0;\n",
              "    do {\n",
              "      const length = Math.min(fileData.byteLength - position, MAX_PAYLOAD_SIZE);\n",
              "      const chunk = new Uint8Array(fileData, position, length);\n",
              "      position += length;\n",
              "\n",
              "      const base64 = btoa(String.fromCharCode.apply(null, chunk));\n",
              "      yield {\n",
              "        response: {\n",
              "          action: 'append',\n",
              "          file: file.name,\n",
              "          data: base64,\n",
              "        },\n",
              "      };\n",
              "\n",
              "      let percentDone = fileData.byteLength === 0 ?\n",
              "          100 :\n",
              "          Math.round((position / fileData.byteLength) * 100);\n",
              "      percent.textContent = `${percentDone}% done`;\n",
              "\n",
              "    } while (position < fileData.byteLength);\n",
              "  }\n",
              "\n",
              "  // All done.\n",
              "  yield {\n",
              "    response: {\n",
              "      action: 'complete',\n",
              "    }\n",
              "  };\n",
              "}\n",
              "\n",
              "scope.google = scope.google || {};\n",
              "scope.google.colab = scope.google.colab || {};\n",
              "scope.google.colab._files = {\n",
              "  _uploadFiles,\n",
              "  _uploadFilesContinue,\n",
              "};\n",
              "})(self);\n",
              "</script> "
            ]
          },
          "metadata": {}
        },
        {
          "output_type": "stream",
          "name": "stdout",
          "text": [
            "Saving kaggle.json to kaggle.json\n",
            "User uploaded file \"kaggle.json\" with length 63 bytes\n"
          ]
        }
      ]
    },
    {
      "cell_type": "markdown",
      "source": [
        "### Download competition data from kaggle"
      ],
      "metadata": {
        "id": "qWncTGBMa0Mb"
      }
    },
    {
      "metadata": {
        "id": "Aojvqv8Gaf8I",
        "colab": {
          "base_uri": "https://localhost:8080/"
        },
        "outputId": "1abb83d0-835e-4407-ebd3-6ac66ae1a1d9"
      },
      "cell_type": "code",
      "source": [
        "!kaggle competitions download -c 2023-data-science-hw1"
      ],
      "execution_count": 2,
      "outputs": [
        {
          "output_type": "stream",
          "name": "stdout",
          "text": [
            "Downloading 2023-data-science-hw1.zip to /content\n",
            "\r  0% 0.00/493k [00:00<?, ?B/s]\n",
            "\r100% 493k/493k [00:00<00:00, 93.8MB/s]\n"
          ]
        }
      ]
    },
    {
      "cell_type": "markdown",
      "source": [
        "### Extract the compessed dataset"
      ],
      "metadata": {
        "id": "UbiCsIZCa7NO"
      }
    },
    {
      "cell_type": "code",
      "execution_count": 3,
      "metadata": {
        "colab": {
          "base_uri": "https://localhost:8080/"
        },
        "id": "88whRnGRcrAu",
        "outputId": "d2084822-6cb5-40f4-e59a-eacd6a305651"
      },
      "outputs": [
        {
          "output_type": "stream",
          "name": "stdout",
          "text": [
            "The dataset is extracted\n"
          ]
        }
      ],
      "source": [
        "from zipfile import ZipFile\n",
        "dataset = '/content/2023-data-science-hw1.zip'\n",
        "\n",
        "with ZipFile(dataset,'r') as zip:\n",
        "  zip.extractall()\n",
        "  print('The dataset is extracted')"
      ]
    },
    {
      "cell_type": "markdown",
      "source": [
        "# Implementation"
      ],
      "metadata": {
        "id": "TEsE6L_yarAX"
      }
    },
    {
      "cell_type": "markdown",
      "source": [
        "Import the necessary libraries and modules, including pandas for data manipulation, numpy for numerical operations, sklearn for machine learning, XGBClassifier for XGBoost, and shuffle to shuffle the data."
      ],
      "metadata": {
        "id": "GkMWPlOmbdBd"
      }
    },
    {
      "cell_type": "code",
      "execution_count": 45,
      "metadata": {
        "id": "cFwU-Pw3abYM"
      },
      "outputs": [],
      "source": [
        "import pandas as pd\n",
        "import numpy as np\n",
        "from sklearn import preprocessing\n",
        "from xgboost.sklearn import XGBClassifier\n",
        "from sklearn.utils import shuffle\n",
        "from pandas.core.frame import DataFrame"
      ]
    },
    {
      "cell_type": "markdown",
      "source": [
        "A seed value is set for reproducibility."
      ],
      "metadata": {
        "id": "YnYoEexIdkbs"
      }
    },
    {
      "cell_type": "code",
      "source": [
        "seed = 42"
      ],
      "metadata": {
        "id": "lNZM7Cofdp0e"
      },
      "execution_count": 46,
      "outputs": []
    },
    {
      "cell_type": "markdown",
      "source": [
        "Read the training and test datasets from CSV files."
      ],
      "metadata": {
        "id": "rGLjECI9b-Ky"
      }
    },
    {
      "cell_type": "code",
      "source": [
        "# Separate Data\n",
        "train = pd.read_csv('train.csv')\n",
        "test = pd.read_csv('test.csv')"
      ],
      "metadata": {
        "id": "ZJ5NzRoVcExC"
      },
      "execution_count": 47,
      "outputs": []
    },
    {
      "cell_type": "markdown",
      "source": [
        "Remove rows with missing values from both the training and test datasets."
      ],
      "metadata": {
        "id": "1Dkf-m8VcG4a"
      }
    },
    {
      "cell_type": "code",
      "source": [
        "# Handle Missing Values\n",
        "train = train.dropna(axis=0, how='any')\n",
        "test = test.dropna(axis=0, how='any')"
      ],
      "metadata": {
        "id": "iCziZcBvcGYH"
      },
      "execution_count": 48,
      "outputs": []
    },
    {
      "cell_type": "markdown",
      "source": [
        "Oversample the minority class ('Yes' in 'Attribute21') by generating additional instances of the 'No' class and then concatenating them with the original 'Yes' class."
      ],
      "metadata": {
        "id": "CVhZj1zNcNfr"
      }
    },
    {
      "cell_type": "code",
      "source": [
        "# oversample the minority class\n",
        "train = train.groupby('Attribute21')\n",
        "no = train.get_group('No')\n",
        "yes = train.get_group('Yes')\n",
        "\n",
        "# oversample the 'No' class to balance the data\n",
        "oversampled_no = no.sample(len(yes), replace=True, random_state=seed)\n",
        "#oversampled_no = no.sample(len(yes))\n",
        "\n",
        "# concatenate the oversampled 'No' class with the 'Yes' class\n",
        "balanced_train = pd.concat([yes, oversampled_no], axis=0)"
      ],
      "metadata": {
        "id": "SrsceELdcM8K"
      },
      "execution_count": 49,
      "outputs": []
    },
    {
      "cell_type": "markdown",
      "source": [
        "Shuffle the rows of the concatenated dataset for randomness."
      ],
      "metadata": {
        "id": "01CUzYXccWoF"
      }
    },
    {
      "cell_type": "code",
      "source": [
        "# Shuffle the Data\n",
        "balanced_train = balanced_train.sample(frac=1, random_state=seed)\n",
        "#balanced_train = shuffle(balanced_train)"
      ],
      "metadata": {
        "id": "6UulJdORcZqF"
      },
      "execution_count": 50,
      "outputs": []
    },
    {
      "cell_type": "markdown",
      "source": [
        "Preprocess the data."
      ],
      "metadata": {
        "id": "v6B0h0ULcTkE"
      }
    },
    {
      "cell_type": "code",
      "source": [
        "# Extract the target variable\n",
        "train_result = balanced_train.values[:, -1]\n",
        "train_result = np.where(train_result == 'Yes', 1, 0)\n",
        "# Drop unnecessary columns\n",
        "balanced_train = balanced_train.drop(['Attribute21'], axis=1)\n",
        "balanced_train = balanced_train.drop(['Attribute1'], axis=1)\n",
        "# Apply one-hot encoding to categorical columns\n",
        "balanced_train = pd.get_dummies(data=balanced_train, columns=['Attribute8', 'Attribute9', 'Attribute20'])\n",
        "# Convert the pandas DataFrame into a NumPy array\n",
        "balanced_train = balanced_train.values\n",
        "\n",
        "# Drop unnecessary columns\n",
        "test = test.drop(['Attribute1'], axis=1)\n",
        "# Apply one-hot encoding to categorical columns\n",
        "test = pd.get_dummies(data=test, columns=['Attribute8', 'Attribute9', 'Attribute20'])\n",
        "# Convert the pandas DataFrame into a NumPy array\n",
        "test = test.values"
      ],
      "metadata": {
        "id": "fm1lmc_wcb4c"
      },
      "execution_count": 51,
      "outputs": []
    },
    {
      "cell_type": "markdown",
      "source": [
        " Initialize an XGBoost classifier and train it on the preprocessed training data."
      ],
      "metadata": {
        "id": "nc-5nMAdceqL"
      }
    },
    {
      "cell_type": "code",
      "source": [
        "# Train the model\n",
        "module = XGBClassifier(colsample_bytree=0.8,\n",
        "                       learning_rate=0.1,\n",
        "                       max_depth=27,\n",
        "                       missing=-999,\n",
        "                       n_estimators=500,\n",
        "                       subsample=0.8)\n",
        "\n",
        "module.fit(balanced_train, train_result)"
      ],
      "metadata": {
        "id": "5iyQTdTDchVs"
      },
      "execution_count": null,
      "outputs": []
    },
    {
      "cell_type": "markdown",
      "source": [
        "Use the trained model to make predictions on the test data."
      ],
      "metadata": {
        "id": "ZuWWMBR2dSdW"
      }
    },
    {
      "cell_type": "code",
      "source": [
        "# Make predictions\n",
        "predict = module.predict(test)"
      ],
      "metadata": {
        "id": "uqxJkPJ_dO9C"
      },
      "execution_count": 53,
      "outputs": []
    },
    {
      "cell_type": "markdown",
      "source": [
        "Create a submission file in CSV format with the predicted results and save it. The header contains columns 'id' and 'ans', where 'id' is the index and 'ans' is the predicted label."
      ],
      "metadata": {
        "id": "e_8r9vFYdTE9"
      }
    },
    {
      "cell_type": "code",
      "source": [
        "# Create and save submission file\n",
        "header = [['id', 'ans']]\n",
        "for i in range(len(predict)):\n",
        "    header.append([float(i), str(int(predict[i]))])\n",
        "\n",
        "result = DataFrame(header)\n",
        "result.to_csv(\"my_submit.csv\", header=None, index=False, encoding='utf-8')"
      ],
      "metadata": {
        "id": "9UPR830udQF2"
      },
      "execution_count": 54,
      "outputs": []
    }
  ]
}