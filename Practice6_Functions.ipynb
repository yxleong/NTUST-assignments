{
  "nbformat": 4,
  "nbformat_minor": 0,
  "metadata": {
    "colab": {
      "provenance": [],
      "collapsed_sections": [
        "ubtWpMF4Celq",
        "CI31RcqADqXl",
        "HcGCDn_IFG7i",
        "PlLT4W4z27jo"
      ],
      "authorship_tag": "ABX9TyM8zJZEfw3836aKWo2mMnRX",
      "include_colab_link": true
    },
    "kernelspec": {
      "name": "python3",
      "display_name": "Python 3"
    },
    "language_info": {
      "name": "python"
    }
  },
  "cells": [
    {
      "cell_type": "markdown",
      "metadata": {
        "id": "view-in-github",
        "colab_type": "text"
      },
      "source": [
        "<a href=\"https://colab.research.google.com/github/yxleong/NTUST-assignments/blob/main/Practice6_Functions.ipynb\" target=\"_parent\"><img src=\"https://colab.research.google.com/assets/colab-badge.svg\" alt=\"Open In Colab\"/></a>"
      ]
    },
    {
      "cell_type": "markdown",
      "source": [
        "### Write a Python function that takes a list and returns a new list with unique elements of the first list.\n",
        "\n",
        "Input: `[1,2,3,3,3,3,4,5]`\n",
        "\n",
        "Output: `[1,2,3,4,5]`"
      ],
      "metadata": {
        "id": "ubtWpMF4Celq"
      }
    },
    {
      "cell_type": "code",
      "execution_count": null,
      "metadata": {
        "colab": {
          "base_uri": "https://localhost:8080/"
        },
        "id": "KZdfX4xKB9Xh",
        "outputId": "88485ff6-7773-469f-c266-3ddde496f1a6"
      },
      "outputs": [
        {
          "output_type": "stream",
          "name": "stdout",
          "text": [
            "{1, 2, 3, 4, 5}\n"
          ]
        }
      ],
      "source": [
        "def return_unique(L):\n",
        "  res = []\n",
        "  for i in L:\n",
        "    res.append(i)\n",
        "  print(set(res))\n",
        "\n",
        "L = [1,2,3,3,3,3,4,5]\n",
        "\n",
        "return_unique(L)"
      ]
    },
    {
      "cell_type": "markdown",
      "source": [
        "### Write a Python function that accepts a hyphen-separated sequence of words as parameter and returns the words in a hyphen-separated sequence after sorting them alphabetically.\n",
        "\n",
        "Input: `green-red-yellow-black-white`\n",
        "\n",
        "Output: `black-green-red-white-yellow`"
      ],
      "metadata": {
        "id": "CI31RcqADqXl"
      }
    },
    {
      "cell_type": "code",
      "source": [
        "def sort_sequence(seq):\n",
        "  temp = []\n",
        "  for i in sorted(seq.split('-')):\n",
        "    temp.append(i)\n",
        "  return temp\n",
        "\n",
        "s = 'green-red-yellow-black-white'\n",
        "\n",
        "for ss in sort_sequence(s):\n",
        "  if ss != \"yellow\":\n",
        "    print(ss, end=\"-\")\n",
        "  else:\n",
        "    print(ss)"
      ],
      "metadata": {
        "colab": {
          "base_uri": "https://localhost:8080/"
        },
        "id": "dP4tdalNEJgz",
        "outputId": "3a6b7ee4-f683-4738-9437-4ab6bba14ce2"
      },
      "execution_count": null,
      "outputs": [
        {
          "output_type": "stream",
          "name": "stdout",
          "text": [
            "black-green-red-white-yellow\n"
          ]
        }
      ]
    },
    {
      "cell_type": "markdown",
      "source": [
        "### Write a Python function that accepts a string and calculates the number of uppercase letters and lowercase letters.\n",
        "\n",
        "SampleString: `Python is the most used Language by Data Scientists`\n",
        "\n",
        "No. of lower case characters: 39\n",
        "\n",
        "No. of Upper case characters: 4"
      ],
      "metadata": {
        "id": "HcGCDn_IFG7i"
      }
    },
    {
      "cell_type": "code",
      "source": [
        "def cal(s):\n",
        "  up_count = 0\n",
        "  low_count = 0\n",
        "  for i in s:\n",
        "    if i.isupper():\n",
        "      up_count += 1\n",
        "    elif i.islower():\n",
        "      low_count += 1\n",
        "    else:\n",
        "      pass\n",
        "  return up_count, low_count\n",
        "\n",
        "s = 'Python is the most used Language by Data Scientists'\n",
        "x,y = cal(s)\n",
        "print(x,y)"
      ],
      "metadata": {
        "colab": {
          "base_uri": "https://localhost:8080/"
        },
        "id": "Dtma535IFetp",
        "outputId": "d891b370-3392-440b-df21-6401faa73986"
      },
      "execution_count": null,
      "outputs": [
        {
          "output_type": "stream",
          "name": "stdout",
          "text": [
            "4 39\n"
          ]
        }
      ]
    },
    {
      "cell_type": "markdown",
      "source": [
        "### Write a Python program to print the even numbers from a given list.\n",
        "\n",
        "SampleList: `[1,2,3,4,5,6,7,8,9]`\n",
        "\n",
        "ExpectedResult: `[2,4,6,8]`"
      ],
      "metadata": {
        "id": "PlLT4W4z27jo"
      }
    },
    {
      "cell_type": "code",
      "source": [
        "def print_even(L):\n",
        "  res = []\n",
        "  for i in L:\n",
        "    if(i % 2 == 0):\n",
        "      res.append(i)\n",
        "  return res\n",
        "\n",
        "l = [1,2,3,4,5,6,7,8,9]\n",
        "print_even(l)"
      ],
      "metadata": {
        "colab": {
          "base_uri": "https://localhost:8080/"
        },
        "id": "Ui6x6AyaGsEh",
        "outputId": "2c2bb347-92be-46a3-96d6-d870bb2a612f"
      },
      "execution_count": null,
      "outputs": [
        {
          "output_type": "execute_result",
          "data": {
            "text/plain": [
              "[2, 4, 6, 8]"
            ]
          },
          "metadata": {},
          "execution_count": 23
        }
      ]
    },
    {
      "cell_type": "markdown",
      "source": [
        "### Write a Python function to check whether a number is perfect or not.\n",
        "\n",
        "Example: The first perfect number is `6`, because `1`, `2`, and `3` are its proper positive divisors, and `1 + 2 + 3 = 6`.\n",
        "\n",
        "Equivalently, the number `6` is equal to half the sum of all its positive divisors: `(1 + 2 + 3 + 6) / 2 = 6`.\n",
        "\n",
        "The next perfect number is `28 = 1 + 2 + 4 + 7 + 14`.\n",
        "\n",
        "This is followed by the perfect numbers `496` and `8128`"
      ],
      "metadata": {
        "id": "gLKu8C6YHVwB"
      }
    },
    {
      "cell_type": "code",
      "source": [
        "def check_perfect(n) :\n",
        "    sum = 0\n",
        "    for i in range(1, n):\n",
        "        if n % i == 0:\n",
        "            sum += i\n",
        "    return sum == n\n",
        "\n",
        "read = 28\n",
        "if check_perfect(int(read)):\n",
        "    print(\"yes\")\n",
        "else:\n",
        "    print(\"no\")\n"
      ],
      "metadata": {
        "colab": {
          "base_uri": "https://localhost:8080/"
        },
        "id": "LtZXT5uvHtju",
        "outputId": "6704c29c-d8ed-4735-a51e-8b20108d35c0"
      },
      "execution_count": null,
      "outputs": [
        {
          "output_type": "stream",
          "name": "stdout",
          "text": [
            "yes\n"
          ]
        }
      ]
    },
    {
      "cell_type": "markdown",
      "source": [
        "## Word with most occurance\n",
        "Make a dictionary\n",
        "- store each words in keys\n",
        "- value will be the number of occurances\n",
        "\n",
        "Find the word with most occurance"
      ],
      "metadata": {
        "id": "fRsCJJ-2JdWA"
      }
    },
    {
      "cell_type": "code",
      "source": [
        "def most_occur(s):\n",
        "  d = {}\n",
        "  for i in s.split():\n",
        "    if i in d:\n",
        "      d[i] += 1\n",
        "    else:\n",
        "      d[i] = 1\n",
        "\n",
        "  max_val = max(d.values())\n",
        "\n",
        "  for i in d:\n",
        "    if d[i] == max_val:\n",
        "      print(i, '->', d[i])\n",
        "\n",
        "most_occur(\"hi hi how are you\")\n",
        "most_occur(\"hello hello hello you i am fine thank you\")\n",
        "most_occur(\"Hello name , my name is Python. What is your name ?\")"
      ],
      "metadata": {
        "colab": {
          "base_uri": "https://localhost:8080/"
        },
        "id": "XZOF_n5-Kco4",
        "outputId": "f9c33fa5-2454-4245-8fb3-dd0a93b9d013"
      },
      "execution_count": null,
      "outputs": [
        {
          "output_type": "stream",
          "name": "stdout",
          "text": [
            "hi -> 2\n",
            "hello -> 3\n",
            "name -> 3\n"
          ]
        }
      ]
    },
    {
      "cell_type": "markdown",
      "source": [
        "## Find histogram bin size 10"
      ],
      "metadata": {
        "id": "ItxWY_PYLo6r"
      }
    },
    {
      "cell_type": "code",
      "source": [
        "import math\n",
        "\n",
        "list1 = [13,42,15,37,22,39,41,50]\n",
        "list2 = [14,13,25,45,50,32]\n",
        "list3 = [12,13,16,17,42,50,32,24,26]\n",
        "\n",
        "def histogram(L):\n",
        "  min_bin = math.floor(min(L)/10)*10 # 23/10=2 2*10=20\n",
        "  max_bin = math.floor(max(L)/10)*10\n",
        "\n",
        "  d = {}\n",
        "  for i in range(min_bin, max_bin, 10):\n",
        "    count = 0\n",
        "    for j in L:\n",
        "      if i+1 <= j <= i+10:\n",
        "        count += 1\n",
        "    print(i, \"-\", i+10, \":\", count)\n",
        "\n",
        "  print(\"\")\n",
        "\n",
        "histogram(list1)\n",
        "histogram(list2)\n",
        "histogram(list3)"
      ],
      "metadata": {
        "colab": {
          "base_uri": "https://localhost:8080/"
        },
        "id": "4EkB0f2PLxqW",
        "outputId": "32b1eade-5366-4ce2-e516-96237f1dbef0"
      },
      "execution_count": null,
      "outputs": [
        {
          "output_type": "stream",
          "name": "stdout",
          "text": [
            "10 - 20 : 2\n",
            "20 - 30 : 1\n",
            "30 - 40 : 2\n",
            "40 - 50 : 3\n",
            "\n",
            "10 - 20 : 2\n",
            "20 - 30 : 1\n",
            "30 - 40 : 1\n",
            "40 - 50 : 2\n",
            "\n",
            "10 - 20 : 4\n",
            "20 - 30 : 2\n",
            "30 - 40 : 1\n",
            "40 - 50 : 2\n",
            "\n"
          ]
        }
      ]
    }
  ]
}