{
  "nbformat": 4,
  "nbformat_minor": 0,
  "metadata": {
    "colab": {
      "provenance": [],
      "collapsed_sections": [
        "AkeVXSA8eE4W",
        "13iYkb6PLmRM"
      ],
      "authorship_tag": "ABX9TyO3cHvtebYgFPmZoc7avKK2",
      "include_colab_link": true
    },
    "kernelspec": {
      "name": "python3",
      "display_name": "Python 3"
    },
    "language_info": {
      "name": "python"
    }
  },
  "cells": [
    {
      "cell_type": "markdown",
      "metadata": {
        "id": "view-in-github",
        "colab_type": "text"
      },
      "source": [
        "<a href=\"https://colab.research.google.com/github/yxleong/NTUST-assignments/blob/main/Exercise7.ipynb\" target=\"_parent\"><img src=\"https://colab.research.google.com/assets/colab-badge.svg\" alt=\"Open In Colab\"/></a>"
      ]
    },
    {
      "cell_type": "markdown",
      "source": [
        "# Exercise 7-1\n",
        "\n",
        "In cases 1 through 4, correct the errors:\n",
        "\n",
        "Q1\n",
        "```\n",
        "class Triangle:\n",
        " def__init__(base, altitude):\n",
        "  self._base = base\n",
        "  self._altitude = altitude\n",
        "```\n",
        "\n",
        "Q2\n",
        "```\n",
        "class Triangle:\n",
        " def__init__(self, base, altitude)\n",
        "  self._base = base\n",
        "  self._altitude = altitude\n",
        "```\n",
        "\n",
        "Q3\n",
        "```\n",
        "class Triangle()\n",
        " def__init__(self, base, altitude)\n",
        "  self._base = base\n",
        "  self._altitude = altitude\n",
        "```\n",
        "\n",
        "Q4\n",
        "```\n",
        "class Triangle:\n",
        " def__init__(self, base=1, altitude):\n",
        "  self._base = base\n",
        "  self._altitude = altitude\n",
        "```"
      ],
      "metadata": {
        "id": "5g7hCr4_FYzi"
      }
    },
    {
      "cell_type": "markdown",
      "source": [
        "## ANSWER\n",
        "\n",
        "A1\n",
        "> change\n",
        "```\n",
        "def__init__(base, altitude):\n",
        "```\n",
        "to\n",
        "```\n",
        "def__init__(self, base, altitude):\n",
        "```\n",
        "\n",
        "A2\n",
        "> change\n",
        "```\n",
        "def__init__(self, base, altitude)\n",
        "```\n",
        "to\n",
        "```\n",
        "def__init__(self, base, altitude):\n",
        "```\n",
        "\n",
        "A3\n",
        "> change\n",
        "```\n",
        "class Triangle()\n",
        " def__init__(self, base, altitude)\n",
        "```\n",
        "to\n",
        "```\n",
        "class Triangle():\n",
        " def__init__(self, base, altitude):\n",
        "```\n",
        "\n",
        "A4\n",
        "> change\n",
        "```\n",
        "def__init__(self, base=1, altitude):\n",
        "```\n",
        "to\n",
        "```\n",
        "def__init__(self, altitude, base=1):\n",
        "```"
      ],
      "metadata": {
        "id": "s2hZQ6eeGELO"
      }
    },
    {
      "cell_type": "markdown",
      "source": [
        "# Exercise 7-2\n",
        "## Define two classes: one superclass `App` and one subclass `Android`.\n",
        "\n",
        "The subclass `Android` inherits from the superclass `App`. Write a program\n",
        "containing the above explanation and instatiate the subclass into the object\n",
        "`app`. Use this app object to obtain information from the superclass and its\n",
        "class.\n",
        "\n",
        "Print out all of the information as shown below.\n",
        "```\n",
        "superclass: This is an app\n",
        "subclass: with an Android version.\n",
        "```"
      ],
      "metadata": {
        "id": "4JyKVZ7TuCji"
      }
    },
    {
      "cell_type": "markdown",
      "source": [
        "## WRONG"
      ],
      "metadata": {
        "id": "AkeVXSA8eE4W"
      }
    },
    {
      "cell_type": "code",
      "execution_count": null,
      "metadata": {
        "colab": {
          "base_uri": "https://localhost:8080/"
        },
        "id": "bRDTSF8kt-La",
        "outputId": "d3084da7-c349-4975-897e-20cf2bd4ad02"
      },
      "outputs": [
        {
          "output_type": "stream",
          "name": "stdout",
          "text": [
            "superclass: This is an app\n",
            "subclass: with an Android version.\n"
          ]
        }
      ],
      "source": [
        "class App:\n",
        "  def obtain(self):\n",
        "    print(\"This is an app\")\n",
        "\n",
        "class Android(App):\n",
        "  def obtain(self):\n",
        "    print(\"with an Android version.\")\n",
        "\n",
        "def obtain(app):\n",
        "  app.obtain()\n",
        "\n",
        "app = App()\n",
        "android = Android()\n",
        "\n",
        "print(\"superclass: \", end=\"\")\n",
        "obtain(app)\n",
        "print(\"subclass: \", end=\"\")\n",
        "obtain(android)"
      ]
    },
    {
      "cell_type": "markdown",
      "source": [
        "## CORRECTED"
      ],
      "metadata": {
        "id": "13iYkb6PLmRM"
      }
    },
    {
      "cell_type": "code",
      "source": [
        "class App:\n",
        "  def obtain(self):\n",
        "    print(\"superclass: This is an app\")\n",
        "\n",
        "class Android(App):\n",
        "  def obtain(self):\n",
        "    super().obtain()\n",
        "    print(\"subclass: with an Android version.\")\n",
        "\n",
        "def obtain(app):\n",
        "  app.obtain()\n",
        "\n",
        "app = Android()\n",
        "obtain(app)"
      ],
      "metadata": {
        "id": "ddQkK-fXLliE"
      },
      "execution_count": null,
      "outputs": []
    },
    {
      "cell_type": "markdown",
      "source": [
        "It should use subclass objects to call superclass function.\n"
      ],
      "metadata": {
        "id": "MqA1bVaFLorc"
      }
    }
  ]
}