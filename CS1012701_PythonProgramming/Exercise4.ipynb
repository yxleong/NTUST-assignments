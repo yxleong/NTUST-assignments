{
  "nbformat": 4,
  "nbformat_minor": 0,
  "metadata": {
    "colab": {
      "provenance": [],
      "collapsed_sections": [
        "MNqmgGM6ZCp2"
      ],
      "authorship_tag": "ABX9TyOT/JApZQn2ajhXftk0zkvs",
      "include_colab_link": true
    },
    "kernelspec": {
      "name": "python3",
      "display_name": "Python 3"
    },
    "language_info": {
      "name": "python"
    }
  },
  "cells": [
    {
      "cell_type": "markdown",
      "metadata": {
        "id": "view-in-github",
        "colab_type": "text"
      },
      "source": [
        "<a href=\"https://colab.research.google.com/github/yxleong/NTUST-assignments/blob/main/Exercise4.ipynb\" target=\"_parent\"><img src=\"https://colab.research.google.com/assets/colab-badge.svg\" alt=\"Open In Colab\"/></a>"
      ]
    },
    {
      "cell_type": "markdown",
      "source": [
        "# Exercise 4-1\n",
        "## Write a Python program to translate each of following numbers, and print the result\n",
        "1. Binary to decimal numbers\n",
        "2. Decimal to binary numbers\n",
        "3. Octal to binary numbers\n",
        "4. Octal to decimal numbers\n",
        "5. Hex-decimal to decimal numbers\n",
        "\n",
        "Output example:\n",
        "```\n",
        "1. Binary to decimal\n",
        "2. Decimal to binary\n",
        "3. Octal to binary\n",
        "4. Octal to decimal\n",
        "5. Hexdecimal to decimal\n",
        "Enter: 1\n",
        "Binary value: 11011\n",
        "Decimal value: 27\n",
        "```"
      ],
      "metadata": {
        "id": "MNqmgGM6ZCp2"
      }
    },
    {
      "cell_type": "code",
      "execution_count": null,
      "metadata": {
        "id": "-8uYPzcLY82j"
      },
      "outputs": [],
      "source": [
        "def bin_to_dec():\n",
        "    bin_value = input(\"Binary value: \")\n",
        "    dec_value = int(bin_value, 2)\n",
        "    print(\"Decimal value:\", dec_value)\n",
        "\n",
        "def dec_to_bin():\n",
        "    dec_value = int(input(\"Decimal value: \"))\n",
        "    bin_value = bin(dec_value)\n",
        "    print(\"Binary value:\", bin_value[2:])\n",
        "\n",
        "def oct_to_bin():\n",
        "    oct_value = input(\"Octal value: \")\n",
        "    dec_value = int(str(oct_value), 8)\n",
        "    bin_value = bin(dec_value)\n",
        "    print(\"Binary value:\", bin_value[2:])\n",
        "\n",
        "def oct_to_dec():\n",
        "    oct_value = input(\"Octal value: \")\n",
        "    dec_value = int(str(oct_value), 8)\n",
        "    print(\"Decimal value:\", dec_value)\n",
        "\n",
        "def hex_to_dec():\n",
        "    hex_value = input(\"Hexadecimal value: \")\n",
        "    dec_value = int(str(hex_value), 16)\n",
        "    print(\"Decimal value:\", dec_value)\n",
        "\n",
        "def get_selection():\n",
        "    selection = int(input(\"Enter: \"))\n",
        "\n",
        "    if selection == 1:\n",
        "        bin_to_dec()\n",
        "    elif selection == 2:\n",
        "        dec_to_bin()\n",
        "    elif selection == 3:\n",
        "        oct_to_bin()\n",
        "    elif selection == 4:\n",
        "        oct_to_dec()\n",
        "    elif selection == 5:\n",
        "        hex_to_dec()\n",
        "    elif selection == 0:\n",
        "        return False\n",
        "    else:\n",
        "        print(\"Wrong input value!\")\n",
        "\n",
        "    return True\n",
        "\n",
        "\n",
        "selections = \"\"\"0. Exit\n",
        "1. Binary to decimal\n",
        "2. Decimal to binary\n",
        "3. Octal to binary\n",
        "4. Octal to decimal\n",
        "5. Hexadecimal to decimal\"\"\"\n",
        "run_program = True\n",
        "\n",
        "while run_program:\n",
        "    print(selections)\n",
        "    run_program = get_selection()\n",
        "    if run_program: print(\"\\n\")"
      ]
    },
    {
      "cell_type": "markdown",
      "source": [
        "# Exercise 4-2\n",
        "## Use a string method to perform the following tasks: (Just write the main command)\n",
        "1. Obtain a list of the words in the string.\n",
        "2. Convert the string to uppercase.\n",
        "3. Locate the position of the string `rules`.\n",
        "4. Replace the exclamation point with a question mark.\n",
        "\n",
        "Assume that the variable `data` refers to the string `Python rules!`."
      ],
      "metadata": {
        "id": "_viAcT1i4cPM"
      }
    },
    {
      "cell_type": "code",
      "source": [
        "data = \"Python rules!\"\n",
        "\n",
        "word_list = data.split()\n",
        "print(word_list)\n",
        "\n",
        "up_data = \"\"\n",
        "for c in data:\n",
        "  up_data += c.upper()\n",
        "print(up_data)\n",
        "\n",
        "loc = data.find(\"rules\")\n",
        "print(loc)\n",
        "\n",
        "rep_data = data.replace(\"!\", \"?\")\n",
        "print(rep_data)"
      ],
      "metadata": {
        "colab": {
          "base_uri": "https://localhost:8080/"
        },
        "id": "1HEeZCcD5BZB",
        "outputId": "919349f6-fb1a-4d52-d9a6-6810ddc722f0"
      },
      "execution_count": 23,
      "outputs": [
        {
          "output_type": "stream",
          "name": "stdout",
          "text": [
            "['Python', 'rules!']\n",
            "PYTHON RULES!\n",
            "7\n",
            "Python rules?\n"
          ]
        }
      ]
    }
  ]
}