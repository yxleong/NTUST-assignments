{
  "nbformat": 4,
  "nbformat_minor": 0,
  "metadata": {
    "colab": {
      "provenance": [],
      "collapsed_sections": [
        "DacZB04d7BvO",
        "fEQyFQps8MLr",
        "amtOpM728tEi"
      ],
      "authorship_tag": "ABX9TyPBRq3GJUTwnui8v8iSnWJO",
      "include_colab_link": true
    },
    "kernelspec": {
      "name": "python3",
      "display_name": "Python 3"
    },
    "language_info": {
      "name": "python"
    }
  },
  "cells": [
    {
      "cell_type": "markdown",
      "metadata": {
        "id": "view-in-github",
        "colab_type": "text"
      },
      "source": [
        "<a href=\"https://colab.research.google.com/github/yxleong/NTUST-assignments/blob/main/Practice3_UserInput.ipynb\" target=\"_parent\"><img src=\"https://colab.research.google.com/assets/colab-badge.svg\" alt=\"Open In Colab\"/></a>"
      ]
    },
    {
      "cell_type": "markdown",
      "source": [
        "### Write a Python program to perform the following tasks:\n",
        "- Declare variables of each of the following data types: integer, float, string, and boolean.\n",
        "- Assign values to each variable.\n",
        "- Print the value and data type of each variable to the console.\n",
        "- Perform comparison (greater than, less than, equal to, not equal to, greater than or equal to, less than or equal to) and print the results of the operations."
      ],
      "metadata": {
        "id": "DacZB04d7BvO"
      }
    },
    {
      "cell_type": "code",
      "execution_count": 30,
      "metadata": {
        "id": "Qz6krac24huv",
        "colab": {
          "base_uri": "https://localhost:8080/"
        },
        "outputId": "5a126564-b2f7-46e7-b981-fc855b67b5bb"
      },
      "outputs": [
        {
          "output_type": "stream",
          "name": "stdout",
          "text": [
            "<class 'int'> 10\n",
            "<class 'float'> 5.1\n",
            "<class 'str'> 3\n",
            "<class 'bool'> True\n",
            "\n",
            "Comparison:\n",
            "<class 'float'> \"5.1\" greater than <class 'int'> \"10\" is False\n",
            "<class 'float'> \"5.1\" less than <class 'int'> \"10\" is True\n",
            "<class 'float'> \"5.1\" equal to <class 'int'> \"10\" is False\n",
            "<class 'float'> \"5.1\" not equal to <class 'int'> \"10\" is True\n",
            "<class 'float'> \"5.1\" greater than or equal to <class 'int'> \"10\" is False\n",
            "<class 'float'> \"5.1\" less than or equal to <class 'int'> \"10\" is True\n",
            "<class 'bool'> \"True\" greater than <class 'int'> \"10\" is False\n",
            "<class 'bool'> \"True\" less than <class 'int'> \"10\" is True\n",
            "<class 'bool'> \"True\" equal to <class 'int'> \"10\" is False\n",
            "<class 'bool'> \"True\" not equal to <class 'int'> \"10\" is True\n",
            "<class 'bool'> \"True\" greater than or equal to <class 'int'> \"10\" is False\n",
            "<class 'bool'> \"True\" less than or equal to <class 'int'> \"10\" is True\n",
            "<class 'bool'> \"True\" greater than <class 'float'> \"5.1\" is False\n",
            "<class 'bool'> \"True\" less than <class 'float'> \"5.1\" is True\n",
            "<class 'bool'> \"True\" equal to <class 'float'> \"5.1\" is False\n",
            "<class 'bool'> \"True\" not equal to <class 'float'> \"5.1\" is True\n",
            "<class 'bool'> \"True\" greater than or equal to <class 'float'> \"5.1\" is False\n",
            "<class 'bool'> \"True\" less than or equal to <class 'float'> \"5.1\" is True\n"
          ]
        }
      ],
      "source": [
        "num = 10\n",
        "f_num = 5.1\n",
        "string = \"3\"\n",
        "boolean_v = True\n",
        "\n",
        "print(type(num), num)\n",
        "print(type(f_num), f_num)\n",
        "print(type(string), string)\n",
        "print(type(boolean_v), boolean_v)\n",
        "\n",
        "my_list = [num, f_num, string, boolean_v]\n",
        "\n",
        "print(\"\\nComparison:\")\n",
        "for i in range(len(my_list)):\n",
        "  for j in range(i):\n",
        "      try:\n",
        "        print(f\"{type(my_list[i])} \\\"{my_list[i]}\\\" greater than {type(my_list[j])} \\\"{my_list[j]}\\\" is {my_list[i] > my_list[j]}\")\n",
        "        print(f\"{type(my_list[i])} \\\"{my_list[i]}\\\" less than {type(my_list[j])} \\\"{my_list[j]}\\\" is {my_list[i] < my_list[j]}\")\n",
        "        print(f\"{type(my_list[i])} \\\"{my_list[i]}\\\" equal to {type(my_list[j])} \\\"{my_list[j]}\\\" is {my_list[i] == my_list[j]}\")\n",
        "        print(f\"{type(my_list[i])} \\\"{my_list[i]}\\\" not equal to {type(my_list[j])} \\\"{my_list[j]}\\\" is {my_list[i] != my_list[j]}\")\n",
        "        print(f\"{type(my_list[i])} \\\"{my_list[i]}\\\" greater than or equal to {type(my_list[j])} \\\"{my_list[j]}\\\" is {my_list[i] >= my_list[j]}\")\n",
        "        print(f\"{type(my_list[i])} \\\"{my_list[i]}\\\" less than or equal to {type(my_list[j])} \\\"{my_list[j]}\\\" is {my_list[i] <= my_list[j]}\")\n",
        "      except TypeError:\n",
        "        #print(\"Wrong type comparison between\", type(my_list[i]), \"and\", type(my_list[j]))\n",
        "        break"
      ]
    },
    {
      "cell_type": "markdown",
      "source": [
        "### Write a Python Program to convert Celcius (taken as user input) to Fahrenheit"
      ],
      "metadata": {
        "id": "fEQyFQps8MLr"
      }
    },
    {
      "cell_type": "code",
      "source": [
        "# Read the input in celcius\n",
        "celcius = float(input(\"Input celcius: \"))\n",
        "\n",
        "# Apply the formula\n",
        "fahrenheit = celcius * 9 / 5 + 32\n",
        "\n",
        "# Print output in fahrenheit\n",
        "print(f'{celcius}°C is {fahrenheit}°F\\n')"
      ],
      "metadata": {
        "id": "_hFzxtv18sxY",
        "colab": {
          "base_uri": "https://localhost:8080/"
        },
        "outputId": "a9dd0bb1-4797-436b-ae46-5293de484bdf"
      },
      "execution_count": null,
      "outputs": [
        {
          "output_type": "stream",
          "name": "stdout",
          "text": [
            "Input celcius: 27\n",
            "27.0°C is 80.6°F\n",
            "\n"
          ]
        }
      ]
    },
    {
      "cell_type": "markdown",
      "source": [
        "### Write a Program to take 2 numbers as input from the user and perform basic arithmetic operations (addition, subtraction, multiplication and division)."
      ],
      "metadata": {
        "id": "amtOpM728tEi"
      }
    },
    {
      "cell_type": "code",
      "source": [
        "# Read input and convert to float type\n",
        "num1 = float(input(\"Input first number: \"))\n",
        "num2 = float(input(\"Input second number: \"))\n",
        "\n",
        "# Calculate and print the result\n",
        "print(\"Sum:\", num1 + num2)\n",
        "print(\"Sub:\", num1 - num2)\n",
        "print(\"Mul:\", num1 * num2)\n",
        "\n",
        "# Handle the \"Division by Zero\" error\n",
        "if(num2 != 0):\n",
        "   print(\"Div:\",num1 / num2)\n",
        "else:\n",
        "   print(\"Div: ERROR! Division by Zero\")"
      ],
      "metadata": {
        "id": "xgXzc17p87A2",
        "colab": {
          "base_uri": "https://localhost:8080/"
        },
        "outputId": "17d698e5-875e-47bd-cc86-963948b41c7f"
      },
      "execution_count": null,
      "outputs": [
        {
          "output_type": "stream",
          "name": "stdout",
          "text": [
            "Input first number: 1\n",
            "Input second number: 0\n",
            "Sum: 1.0\n",
            "Sub: 1.0\n",
            "Mul: 0.0\n",
            "Div: ERROR! Division by Zero\n"
          ]
        }
      ]
    }
  ]
}