{
  "nbformat": 4,
  "nbformat_minor": 0,
  "metadata": {
    "colab": {
      "provenance": [],
      "authorship_tag": "ABX9TyMCZYA9dTUUpOlQbE05/eIO",
      "include_colab_link": true
    },
    "kernelspec": {
      "name": "python3",
      "display_name": "Python 3"
    },
    "language_info": {
      "name": "python"
    }
  },
  "cells": [
    {
      "cell_type": "markdown",
      "metadata": {
        "id": "view-in-github",
        "colab_type": "text"
      },
      "source": [
        "<a href=\"https://colab.research.google.com/github/yxleong/NTUST-assignments/blob/main/Exercise5_1.ipynb\" target=\"_parent\"><img src=\"https://colab.research.google.com/assets/colab-badge.svg\" alt=\"Open In Colab\"/></a>"
      ]
    },
    {
      "cell_type": "markdown",
      "source": [
        "## Write a pay-raise program that requests a person's first name, last name, and current annual salary and then displays the person's salary for the next year.\n",
        "\n",
        "Each action (such as input, calculation, and output) should be performed by a different function. People earning less than `$40,000` will receive a `5%` raise, and those earning `$40,000` or more will receive a raise of `$2,000` plus `2%` of the amount over `$40,000`.\n",
        "\n",
        "The output is as follows:\n",
        "```\n",
        "Enter first name: John\n",
        "Enter last name: Doe\n",
        "Enter current salary: 48000\n",
        "New salary for John Doe: $50,160.00\n",
        "```"
      ],
      "metadata": {
        "id": "txNq5KRWWLxy"
      }
    },
    {
      "cell_type": "code",
      "execution_count": null,
      "metadata": {
        "id": "ea0_vyqZWFk7",
        "colab": {
          "base_uri": "https://localhost:8080/"
        },
        "outputId": "55572a97-c8ce-42e2-ca47-7bcc106c3d3f"
      },
      "outputs": [
        {
          "output_type": "stream",
          "name": "stdout",
          "text": [
            "Enter first name: John\n",
            "Enter last name: Doe\n",
            "Enter current salary: 48000\n",
            "New salary for John Doe: $50,160.00\n"
          ]
        }
      ],
      "source": [
        "def get_name():\n",
        "    first_name = input(\"Enter first name: \")\n",
        "    last_name = input(\"Enter last name: \")\n",
        "    full_name = first_name + \" \" + last_name\n",
        "    return full_name\n",
        "\n",
        "def get_current_salary():\n",
        "    current_salary = eval(input(\"Enter current salary: \"))\n",
        "    return current_salary\n",
        "\n",
        "def calculate_new_salary(salary):\n",
        "    if salary < 40000:\n",
        "        salary *= 1.05\n",
        "    else:\n",
        "        bonus_salary = salary - 40000\n",
        "        salary = salary + 2000 + (0.02 * bonus_salary)\n",
        "    return salary\n",
        "\n",
        "def print_output(name, salary):\n",
        "    print(f\"New salary for {name}: ${salary:,.2f}\")\n",
        "\n",
        "name = get_name()\n",
        "salary = calculate_new_salary(get_current_salary())\n",
        "print_output(name, salary)"
      ]
    }
  ]
}