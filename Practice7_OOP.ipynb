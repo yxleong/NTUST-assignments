{
  "nbformat": 4,
  "nbformat_minor": 0,
  "metadata": {
    "colab": {
      "provenance": [],
      "collapsed_sections": [
        "meRRzDLs04u1",
        "mcOuV8eP0-vD"
      ],
      "authorship_tag": "ABX9TyNayNa2RjGZx6hFt7rMre8S",
      "include_colab_link": true
    },
    "kernelspec": {
      "name": "python3",
      "display_name": "Python 3"
    },
    "language_info": {
      "name": "python"
    }
  },
  "cells": [
    {
      "cell_type": "markdown",
      "metadata": {
        "id": "view-in-github",
        "colab_type": "text"
      },
      "source": [
        "<a href=\"https://colab.research.google.com/github/yxleong/NTUST-assignments/blob/main/Practice7_OOP.ipynb\" target=\"_parent\"><img src=\"https://colab.research.google.com/assets/colab-badge.svg\" alt=\"Open In Colab\"/></a>"
      ]
    },
    {
      "cell_type": "markdown",
      "source": [
        "# Rectangle Class\n"
      ],
      "metadata": {
        "id": "meRRzDLs04u1"
      }
    },
    {
      "cell_type": "markdown",
      "source": [
        "1. Write a `Rectangle` class in Python language, allowing you to build a rectangle with length and width attributes.\n",
        "\n",
        "2. Create a `perimeter()` method to calculate the perimeter of the rectangle and an `area()` method to calculate the area of the rectangle.\n",
        "\n",
        "3. Create a method `display()` that displays the length, width, perimeter and area of an object created using an instantiation on rectangle class.\n",
        "\n",
        "After making above classes and methods, on executing below code:\n",
        "```\n",
        "my_rectangle=Rectangle(3,4)\n",
        "my_rectangle.display()\n",
        "```\n",
        "\n",
        "Output:\n",
        "```\n",
        "The length of rectangle is: 3\n",
        "The width of rectangle is: 4\n",
        "The perimeter of rectangle is: 14\n",
        "The area of rectangle is: 12\n",
        "```"
      ],
      "metadata": {
        "id": "0GKmhfaV09Km"
      }
    },
    {
      "cell_type": "code",
      "source": [
        "class Rectangle:\n",
        "\n",
        "  def __init__(self, len, width):\n",
        "    self.__length = len   # __ means private\n",
        "    self.__width = width\n",
        "\n",
        "  def __perimeter(self):\n",
        "    return 2 * (self.__length + self.__width)\n",
        "\n",
        "  def __area(self):\n",
        "    return self.__length * self.__width\n",
        "\n",
        "  def display(self):\n",
        "    print(\"The length of rectangle is\", self.__length)\n",
        "    print(\"The width of rectangle is\", self.__width)\n",
        "    print(\"The perimeter of rectangle is\", self.__perimeter())\n",
        "    print(\"The area of rectangle is\", self.__area())\n",
        "\n",
        "my_rectangle = Rectangle(3, 4)\n",
        "my_rectangle.display()"
      ],
      "metadata": {
        "id": "QHQ_SPIe0_WB",
        "colab": {
          "base_uri": "https://localhost:8080/"
        },
        "outputId": "9931c6f6-0e1f-45f4-9e49-7c08cdb545a6"
      },
      "execution_count": null,
      "outputs": [
        {
          "output_type": "stream",
          "name": "stdout",
          "text": [
            "The length of rectangle is 3\n",
            "The width of rectangle is 4\n",
            "The perimeter of rectangle is 14\n",
            "The area of rectangle is 12\n"
          ]
        }
      ]
    },
    {
      "cell_type": "markdown",
      "source": [
        "# Bank Class"
      ],
      "metadata": {
        "id": "mcOuV8eP0-vD"
      }
    },
    {
      "cell_type": "markdown",
      "source": [
        "1. Create a Python class called `BankAccount` which represents a bank account, having as attributes: accountNumber (numeric type), name (name of the account owner as string type), balance.\n",
        "\n",
        "2. Create a constructor with parameters: accountNumber, name, balance.\n",
        "\n",
        "3. Create a `deposit()` method which manages the deposit actions.\n",
        "\n",
        "4. Create a `withdrawal()` method which manages withdrawals actions.\n",
        "\n",
        "5. Create a `bankFees()` method to apply the bank fees with a percentage of 5% of the balance account.\n",
        "\n",
        "6. Create a `display()` method to display account details. Give the complete code for the BankAccount class.\n",
        "\n",
        "After making above classes and methods, on executing below code:\n",
        "```\n",
        "newAccount = BankAccount(2178514584, \"Mandy\", 2800)\n",
        "newAccount.withdrawal(700)\n",
        "newAccount.deposit(1000)\n",
        "newAccount.display()\n",
        "```\n",
        "\n",
        "Output:\n",
        "```\n",
        "Account Number: 2178514584\n",
        "Account Name: Mandy\n",
        "Account Balance: $2995\n",
        "```"
      ],
      "metadata": {
        "id": "Aw3E0soM1DAT"
      }
    },
    {
      "cell_type": "code",
      "source": [
        "class BankAccount:\n",
        "\n",
        "  def __init__(self, accNo, name, balance):\n",
        "    self.__accountNumber = accNo\n",
        "    self.__name = name\n",
        "    self.__balance = balance\n",
        "\n",
        "  def display(self):\n",
        "    print('Account Number:', self.__accountNumber)\n",
        "    print('Account Name:', self.__name)\n",
        "    print(f'Account Balance: ${round(self.__balance)}')\n",
        "\n",
        "  def deposit(self, amount):\n",
        "    self.__balance += amount\n",
        "\n",
        "  def withdrawal(self, amount):\n",
        "    if (amount > self.__balance):\n",
        "      print('Insufficient funds')\n",
        "    else:\n",
        "      self.__balance -= amount\n",
        "      reduction = self.__bankFees()\n",
        "      self.__balance -= reduction\n",
        "\n",
        "  def __bankFees(self):\n",
        "    return 0.05 * self.__balance\n",
        "\n",
        "# cust = BankAccount(100011, 'Shashank', 500)\n",
        "# cust.deposit(500)\n",
        "# cust.withdrawal(100)\n",
        "# cust.display()\n",
        "\n",
        "newAccount = BankAccount(2178514584, \"Mandy\", 2800)\n",
        "newAccount.withdrawal(700)\n",
        "newAccount.deposit(1000)\n",
        "newAccount.display()"
      ],
      "metadata": {
        "id": "z95zhxim1FeV",
        "colab": {
          "base_uri": "https://localhost:8080/"
        },
        "outputId": "7d8df5fb-d7b0-4875-81e2-0150fa2d8779"
      },
      "execution_count": null,
      "outputs": [
        {
          "output_type": "stream",
          "name": "stdout",
          "text": [
            "Account Number: 2178514584\n",
            "Account Name: Mandy\n",
            "Account Balance: $2995\n"
          ]
        }
      ]
    },
    {
      "cell_type": "markdown",
      "source": [
        "# FlashCard Class"
      ],
      "metadata": {
        "id": "3-mIiZU4_O_C"
      }
    },
    {
      "cell_type": "markdown",
      "source": [
        "Build a flashcard using a class in python. A flashcard is a card having information on both sides, which can be used as an aid in memoization. Flashcards usually have a question on one side and an answer on the other.\n",
        "\n",
        "Approach:\n",
        "- Create a class named `FlashCard`.\n",
        "- Initialize dictionary fruits using `init()` method. Here you have to define the fruit name as key and its color as value. E.g., {\"Banana\": \"yellow\", \"Strawberries\": \"pink\"}\n",
        "- Now randomly choose a pair from fruits by using “random” module and store the\n",
        "key in variable fruit and value in variable color.\n",
        "- Now prompt the user to answer the color of the randomly chosen fruit.\n",
        "- If correct print correct else print wrong.\n",
        "\n",
        "Output:\n",
        "```\n",
        "welcome to fruit quiz\n",
        "What is the color of Strawberries\n",
        "pink\n",
        "Correct answer\n",
        "Enter 0, if you want to play again: 0\n",
        "What is the color of Watermelon\n",
        "green\n",
        "Correct answer\n",
        "Enter 0, if you want to play again: 1\n",
        "```"
      ],
      "metadata": {
        "id": "lMIrlP1w_WCM"
      }
    },
    {
      "cell_type": "code",
      "source": [
        "import random\n",
        "\n",
        "class FlashCard():\n",
        "  def __init__(self):\n",
        "    self.fruit = {\"Banana\": \"yellow\", \"Strawberries\": \"pink\", \"Watermelon\": \"green\"}\n",
        "    self.card = None\n",
        "\n",
        "  def get_question(self):\n",
        "    self.card = random.choice(list(self.fruit.keys()))\n",
        "    return f'What is the color of {self.card}'\n",
        "\n",
        "  def judge_answer(self, ans):\n",
        "    if ans.lower() == self.fruit[self.card].lower():\n",
        "      return \"Correct answer\"\n",
        "    else:\n",
        "      return \"Wrong answer\"\n",
        "\n",
        "quiz = FlashCard()\n",
        "print(quiz.get_question())\n",
        "\n",
        "ans = input()\n",
        "\n",
        "print(quiz.judge_answer(ans))"
      ],
      "metadata": {
        "colab": {
          "base_uri": "https://localhost:8080/"
        },
        "id": "HI8i-7VJd67A",
        "outputId": "9b9026ac-5508-4876-972e-913ad4377069"
      },
      "execution_count": null,
      "outputs": [
        {
          "output_type": "stream",
          "name": "stdout",
          "text": [
            "What is the color of Strawberries\n",
            "pink\n",
            "Correct answer\n"
          ]
        }
      ]
    }
  ]
}