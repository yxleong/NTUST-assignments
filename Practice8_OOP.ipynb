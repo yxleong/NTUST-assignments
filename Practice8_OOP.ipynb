{
  "nbformat": 4,
  "nbformat_minor": 0,
  "metadata": {
    "colab": {
      "provenance": [],
      "collapsed_sections": [
        "PjuPsJbZKNcE",
        "4-OG1RJGNEtR",
        "5Ev__rR2PiOR",
        "HURiul48QgIO",
        "onGfhMeATyaL"
      ],
      "authorship_tag": "ABX9TyMDPt5N+X1nXXHBilgcNxIm",
      "include_colab_link": true
    },
    "kernelspec": {
      "name": "python3",
      "display_name": "Python 3"
    },
    "language_info": {
      "name": "python"
    }
  },
  "cells": [
    {
      "cell_type": "markdown",
      "metadata": {
        "id": "view-in-github",
        "colab_type": "text"
      },
      "source": [
        "<a href=\"https://colab.research.google.com/github/yxleong/NTUST-assignments/blob/main/Practice8_OOP.ipynb\" target=\"_parent\"><img src=\"https://colab.research.google.com/assets/colab-badge.svg\" alt=\"Open In Colab\"/></a>"
      ]
    },
    {
      "cell_type": "markdown",
      "source": [
        "### Create a Bus child class that inherits from the Vehicle class.\n",
        "\n",
        "The default fare charge of any vehicle is seating capacity * `100`. If `Vehicle`\n",
        "is `Bus` instance, we need to add an extra `10%` on full fare as a\n",
        "maintenance charge. So total fare for bus instance will become the\n",
        "final amount = total fare + `10%` of the total fare.\n",
        "\n",
        "Note: The bus seating capacity is `50`. so the final fare amount should\n",
        "be `5500`. You need to override the `fare()` method of a `Vehicle` class in\n",
        "`Bus` class."
      ],
      "metadata": {
        "id": "PjuPsJbZKNcE"
      }
    },
    {
      "cell_type": "code",
      "execution_count": null,
      "metadata": {
        "colab": {
          "base_uri": "https://localhost:8080/"
        },
        "id": "05JBCGpTKGxl",
        "outputId": "851b3df4-7ed5-4fbe-89b3-2338bd091132"
      },
      "outputs": [
        {
          "output_type": "stream",
          "name": "stdout",
          "text": [
            "5500\n"
          ]
        }
      ],
      "source": [
        "class Vehicle:\n",
        "  def __init__(self, type, capacity):\n",
        "    self.type = type\n",
        "    self.capacity = capacity\n",
        "\n",
        "  def fare(self):\n",
        "    return self.capacity * 100\n",
        "\n",
        "class Bus(Vehicle):\n",
        "  def fare(self):\n",
        "    base_fare = super().fare()\n",
        "    return base_fare * 1.1\n",
        "\n",
        "bus = Bus(\"bus\", 50)\n",
        "print(round(bus.fare()))"
      ]
    },
    {
      "cell_type": "markdown",
      "source": [
        "### Write a program that has an abstract class `Polygon`.\n",
        "\n",
        "Derive two classes `Rectangle` and `Triangle` from `Polygon` and write methods to get the details of their dimensions and hence calculate the area."
      ],
      "metadata": {
        "id": "4-OG1RJGNEtR"
      }
    },
    {
      "cell_type": "code",
      "source": [
        "from abc import ABC, abstractmethod\n",
        "\n",
        "class Polygon(ABC):\n",
        "  @abstractmethod\n",
        "  def get_data():\n",
        "    pass\n",
        "\n",
        "  @abstractmethod\n",
        "  def area():\n",
        "    pass\n",
        "\n",
        "class Rectangle(Polygon):\n",
        "  def __init__(self, l, w):\n",
        "    self.l = l\n",
        "    self.w = w\n",
        "\n",
        "  def get_data(self):\n",
        "    return f\"length is {self.l}; weight is {self.w}\"\n",
        "\n",
        "  def area(self):\n",
        "    return self.l * self.w\n",
        "\n",
        "class Triangle(Polygon):\n",
        "  def __init__(self, l, w):\n",
        "    self.l = l\n",
        "    self.w = w\n",
        "\n",
        "  def get_data(self):\n",
        "    return f\"length is {self.l}; weight is {self.w}\"\n",
        "\n",
        "  def area(self):\n",
        "    return round(0.5 * self.l * self.w)\n",
        "\n",
        "rectangle = Rectangle(10, 5)\n",
        "triangle = Triangle(8, 6)\n",
        "\n",
        "print(rectangle.get_data())\n",
        "print(f\"Rectangle area is {rectangle.area()}\")\n",
        "\n",
        "print(triangle.get_data())\n",
        "print(f\"Triangle area is {triangle.area()}\")"
      ],
      "metadata": {
        "id": "HaSAOwebPneS",
        "colab": {
          "base_uri": "https://localhost:8080/"
        },
        "outputId": "78403694-ee22-4dd3-c68b-c338a1bc12e0"
      },
      "execution_count": null,
      "outputs": [
        {
          "output_type": "stream",
          "name": "stdout",
          "text": [
            "length is 10; weight is 5\n",
            "Rectangle area is 50\n",
            "length is 8; weight is 6\n",
            "Triangle area is 24\n"
          ]
        }
      ]
    },
    {
      "cell_type": "markdown",
      "source": [
        "### Count the number of instances of a class created in Python\n",
        "\n",
        "(Note : Have to store the count in a private member)\n",
        "\n",
        "Example: Say `Car` is any class.\n",
        "```\n",
        "maruti = Car()\n",
        "bmw = Car()\n",
        "honda = Car()\n",
        "```\n",
        "\n",
        "So after creating the above instances. We want to count how many\n",
        "instances are created of `Car` class.\n",
        "\n",
        "For example no of instances = 3.\n",
        "\n",
        "Write a program for the above problem."
      ],
      "metadata": {
        "id": "5Ev__rR2PiOR"
      }
    },
    {
      "cell_type": "code",
      "source": [
        "class Car:\n",
        "\n",
        "  __counter = 0\n",
        "\n",
        "  def __init__(self):\n",
        "    Car.__counter += 1\n",
        "\n",
        "  def get_count():\n",
        "    return Car.__counter\n",
        "\n",
        "maruti = Car()\n",
        "bmw = Car()\n",
        "honda = Car()\n",
        "\n",
        "print(Car.get_count())"
      ],
      "metadata": {
        "colab": {
          "base_uri": "https://localhost:8080/"
        },
        "id": "J2Ko0KZOQZvP",
        "outputId": "e56c85dd-a7c6-4aae-d224-3804c1273f21"
      },
      "execution_count": null,
      "outputs": [
        {
          "output_type": "stream",
          "name": "stdout",
          "text": [
            "3\n"
          ]
        }
      ]
    },
    {
      "cell_type": "markdown",
      "source": [
        "### Write a program that has a class `Point`.\n",
        "\n",
        "Define another class `Location` which has two objects (`Source` & `Destination`) of class `Point`. Also define a function in `Location` that prints the reflection of `Destination` on the `x` axis."
      ],
      "metadata": {
        "id": "HURiul48QgIO"
      }
    },
    {
      "cell_type": "code",
      "source": [
        "class Point:\n",
        "  def __init__(self, x, y):\n",
        "    self.x = x\n",
        "    self.y = y\n",
        "\n",
        "class Location(Point):\n",
        "  def __init__(self, source, destination):\n",
        "    self.source = source\n",
        "    self.destination = destination\n",
        "\n",
        "  def get_reflection_on_x(self):\n",
        "    return Point(self.destination.x, -self.destination.y)\n",
        "\n",
        "source = Point(1, 1)\n",
        "destination = Point(2, 1)\n",
        "location = Location(source, destination)\n",
        "print(location.get_reflection_on_x().x, location.get_reflection_on_x().y)"
      ],
      "metadata": {
        "colab": {
          "base_uri": "https://localhost:8080/"
        },
        "id": "lIYpXQWBSWNC",
        "outputId": "30698433-4fca-4d2f-8ffd-2cb913f79f7c"
      },
      "execution_count": null,
      "outputs": [
        {
          "output_type": "stream",
          "name": "stdout",
          "text": [
            "2 -1\n"
          ]
        }
      ]
    },
    {
      "cell_type": "markdown",
      "source": [
        "### puzzle\n",
        "\n",
        "input:\n",
        "```\n",
        "s = 'abcdef'\n",
        "n = '123456'\n",
        "```\n",
        "\n",
        "output:\n",
        "```\n",
        "'bdghjl'\n",
        "```"
      ],
      "metadata": {
        "id": "onGfhMeATyaL"
      }
    },
    {
      "cell_type": "code",
      "source": [
        "pwd = input()\n",
        "move = input()\n",
        "\n",
        "for i in range(len(pwd)):\n",
        "  ascii = ord(pwd[i]) - ord('a') + 1\n",
        "  ascii += int(move[i])\n",
        "  letter = chr(ascii + ord('a') - 1)\n",
        "  print(letter, end=\"\")"
      ],
      "metadata": {
        "colab": {
          "base_uri": "https://localhost:8080/"
        },
        "id": "Dhpx4IIjTzJG",
        "outputId": "d19e9065-4100-46a2-e617-f89d09cb583e"
      },
      "execution_count": null,
      "outputs": [
        {
          "output_type": "stream",
          "name": "stdout",
          "text": [
            "abcdef\n",
            "123456\n",
            "bdfhjl"
          ]
        }
      ]
    }
  ]
}